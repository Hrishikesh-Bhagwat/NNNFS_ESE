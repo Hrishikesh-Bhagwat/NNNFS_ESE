{
 "cells": [
  {
   "cell_type": "markdown",
   "id": "b14b7cbd",
   "metadata": {},
   "source": [
    "## Analysing Maximum Likelihood Estimation & Maximum A Posterior Estimation"
   ]
  },
  {
   "cell_type": "markdown",
   "id": "c0400837",
   "metadata": {},
   "source": [
    "### Bayes Theorem\n",
    "The Bayes Theorem is an important theorem in probability. It is used in calculating inverse probability. Let A and B be two events. A|B denotes that event A happens given that event B has happened. Using Bayes Theorem, we can say that:<br>\n",
    "<center><h3><i>P(A|B)=P(B|A)*P(A)/P(B)</i></h3></center><br>\n",
    "This theorem forms the foundation of numerous Machine Learning algorithms."
   ]
  },
  {
   "cell_type": "markdown",
   "id": "fe17dbc4",
   "metadata": {},
   "source": [
    "### Introduction to MLE\n",
    "Maximum likelihood estimation is a method that determines values for the parameters of a model. The parameter values are found such that they maximise the likelihood that the process described by the model produced the data that were actually observed. In class we studied the use of MLE in finding best parameters for Linear Regression. <em>Here we are using it in a general purpose common sense type of problem.</em>"
   ]
  },
  {
   "cell_type": "markdown",
   "id": "7eaf7f93",
   "metadata": {},
   "source": [
    "### Enter MAP"
   ]
  },
  {
   "cell_type": "markdown",
   "id": "5565889b",
   "metadata": {},
   "source": [
    "MLE can be viewed as MLE with prior knowledge. Using prior knowledge we can improve our estimation. Thus, MAP is more likely to give higher accuracy."
   ]
  },
  {
   "cell_type": "markdown",
   "id": "d690fcc5",
   "metadata": {},
   "source": [
    "### The Problem Statement\n",
    "We have a bag of apples. A random apple is drawn from the bag based on the probabilities of a discrete Gaussian distribution. We know the true weight of the apple. However, we are weighing it using a broken scale that gives a randomly generated error sampled from a Gaussian distribution. We can take measurements any number of times. We will be using MLE and MAP to see how close to the actual measurement we get."
   ]
  },
  {
   "cell_type": "markdown",
   "id": "27432fb4",
   "metadata": {},
   "source": [
    "### Step 0: Importing Modules, Defining Useful Functions and Initialising Some Data"
   ]
  },
  {
   "cell_type": "code",
   "execution_count": 2,
   "id": "f2f56bcd",
   "metadata": {},
   "outputs": [],
   "source": [
    "import numpy as np\n",
    "pi=np.pi\n",
    "mean_weights=85\n",
    "variance_weights=20\n",
    "\n",
    "def gaussian_probability_weight(point):\n",
    "    return (1/(np.pi*2*variance_weights)**0.5)*np.exp(-((point-mean_weights)**2)/(2*variance_weights))\n",
    "\n",
    "mean_error=0\n",
    "variance_error=5\n",
    "\n",
    "def gaussian_probability_errors(point):\n",
    "    return (1/(np.pi*2*variance_error)**0.5)*np.exp(-((point-mean_error)**2)/(2*variance_error))"
   ]
  },
  {
   "cell_type": "markdown",
   "id": "86d1c23f",
   "metadata": {},
   "source": [
    "### Step 1: Getting Priors Right"
   ]
  },
  {
   "cell_type": "code",
   "execution_count": 3,
   "id": "c3a23590",
   "metadata": {},
   "outputs": [],
   "source": [
    "w={}\n",
    "e={}\n",
    "i=4\n",
    "for i in range(30,301):\n",
    "    w[i]=gaussian_probability_weight(i)\n",
    "for i in range(-11,12):\n",
    "    e[i]=gaussian_probability_errors(i)\n",
    "sum_w=0\n",
    "for i in w.keys():\n",
    "    sum_w+=w[i]\n",
    "sum_e=0\n",
    "for i in e.keys():\n",
    "    sum_e+=e[i]\n",
    "for i in w.keys():\n",
    "    w[i]=w[i]/sum_w\n",
    "for i in e.keys():\n",
    "    e[i]=e[i]/sum_e"
   ]
  },
  {
   "cell_type": "markdown",
   "id": "cdd5f5b9",
   "metadata": {},
   "source": [
    "### Step 2: Function that Controls the Game"
   ]
  },
  {
   "cell_type": "code",
   "execution_count": 4,
   "id": "f3a0b858",
   "metadata": {},
   "outputs": [],
   "source": [
    "measures=3\n",
    "def get_measure(x):\n",
    "    measurements=[]\n",
    "    for i in range(measures):\n",
    "        measurements.append(x+np.random.choice([i for i in e.keys()],p=[e[i] for i in e.keys()]))\n",
    "    return measurements"
   ]
  },
  {
   "cell_type": "markdown",
   "id": "69e58243",
   "metadata": {},
   "source": [
    "### Step 3: Let the Guessing Begin"
   ]
  },
  {
   "cell_type": "code",
   "execution_count": 17,
   "id": "2959405d",
   "metadata": {},
   "outputs": [
    {
     "name": "stdout",
     "output_type": "stream",
     "text": [
      "Average measurement: 83.0\n",
      "Maximum Liklihood estimate: 81\n",
      "Maximum A Posterior estimate: 82\n",
      "The true weight of the apple was: 83\n"
     ]
    }
   ],
   "source": [
    "t=np.random.choice([i for i in w.keys()],p=[w[i] for i in w.keys()])\n",
    "measurements=get_measure(t)\n",
    "map_measure=[0,0]\n",
    "mle_measure=[0,0]\n",
    "weights_exp=[i for i in w.keys()]\n",
    "for i in range(len(weights_exp)):\n",
    "        true_weight=weights_exp[i]\n",
    "        p_true_weight=w[true_weight]\n",
    "        p_liklihood=1\n",
    "        for j in range(len(measurements)):\n",
    "            error=measurements[j]-true_weight\n",
    "            if error in e.keys():\n",
    "                p_liklihood*=e[error]\n",
    "            else:\n",
    "                p_liklihood=0\n",
    "            if p_liklihood>mle_measure[0]:\n",
    "                mle_measure=[p_liklihood,weights_exp[i]]\n",
    "            p_map=p_liklihood*(w[weights_exp[i]])\n",
    "            if p_map>map_measure[0]:\n",
    "                map_measure=[p_map,weights_exp[i]]\n",
    "print(f\"Average measurement: {np.mean(measurements).round(1)}\")\n",
    "print(f\"Maximum Liklihood estimate: {mle_measure[1]}\")\n",
    "print(f\"Maximum A Posterior estimate: {map_measure[1]}\")\n",
    "print(f\"The true weight of the apple was: {t}\")"
   ]
  },
  {
   "cell_type": "markdown",
   "id": "549327d9",
   "metadata": {},
   "source": [
    "### Step 4: Different Views on Accuracy"
   ]
  },
  {
   "cell_type": "code",
   "execution_count": 74,
   "id": "a840b7b9",
   "metadata": {},
   "outputs": [
    {
     "name": "stdout",
     "output_type": "stream",
     "text": [
      "Comparing accuracy based on who is closer to the observed value in each case:\n",
      "MAP: 0.866\n",
      "MLE: 0.819\n",
      "Comparison with Square Error as a Metric:\n",
      "MLE: 1724\n",
      "MAP: 1596\n"
     ]
    }
   ],
   "source": [
    "answers=[]\n",
    "for i in range(1000):\n",
    "        t=np.random.choice([i for i in w.keys()],p=[w[i] for i in w.keys()])\n",
    "        #perform measurements\n",
    "        measurements=get_measure(t)\n",
    "        map_measure=[0,0]\n",
    "        mle_measure=[0,0]\n",
    "        weights_exp=[i for i in w.keys()]\n",
    "        for i in range(len(weights_exp)):\n",
    "            true_weight=weights_exp[i]\n",
    "            p_true_weight=w[true_weight]\n",
    "            p_liklihood=1\n",
    "            for j in range(len(measurements)):\n",
    "                error=measurements[j]-true_weight\n",
    "                if error in e.keys():\n",
    "                    p_liklihood*=e[error]\n",
    "                else:\n",
    "                    p_liklihood=0\n",
    "            if p_liklihood>mle_measure[0]:\n",
    "                mle_measure=[p_liklihood,weights_exp[i]]\n",
    "            p_map=p_liklihood*(w[weights_exp[i]])\n",
    "            if p_map>map_measure[0]:\n",
    "                map_measure=[p_map,weights_exp[i]]\n",
    "        answers.append((t,map_measure[1],mle_measure[1]))\n",
    "map_acc=0\n",
    "mle_acc=0\n",
    "for i in answers:\n",
    "        if abs(i[0]-i[1])<=abs(i[0]-i[2]):\n",
    "            map_acc+=1\n",
    "        if abs(i[0]-i[1])>=abs(i[0]-i[2]):\n",
    "            mle_acc+=1\n",
    "print(\"Comparing accuracy based on who is closer to the observed value in each case:\")\n",
    "print(f\"MAP: {map_acc/1000}\")\n",
    "print(f\"MLE: {mle_acc/1000}\")\n",
    "print(\"Comparison with Square Error as a Metric:\")\n",
    "map_acc=0\n",
    "mle_acc=0\n",
    "for i in answers:\n",
    "        map_acc+=(i[1]-i[0])**2\n",
    "        mle_acc+=(i[2]-i[0])**2\n",
    "print(f\"MLE: {mle_acc}\")\n",
    "print(f\"MAP: {map_acc}\")"
   ]
  },
  {
   "cell_type": "code",
   "execution_count": null,
   "id": "4f475c96",
   "metadata": {},
   "outputs": [],
   "source": []
  }
 ],
 "metadata": {
  "kernelspec": {
   "display_name": "Python 3",
   "language": "python",
   "name": "python3"
  },
  "language_info": {
   "codemirror_mode": {
    "name": "ipython",
    "version": 3
   },
   "file_extension": ".py",
   "mimetype": "text/x-python",
   "name": "python",
   "nbconvert_exporter": "python",
   "pygments_lexer": "ipython3",
   "version": "3.8.10"
  }
 },
 "nbformat": 4,
 "nbformat_minor": 5
}
